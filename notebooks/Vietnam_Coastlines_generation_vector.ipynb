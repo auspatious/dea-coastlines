{
 "cells": [
  {
   "attachments": {},
   "cell_type": "markdown",
   "metadata": {
    "tags": []
   },
   "source": [
    "# DEA Coastlines vector statistics <img align=\"right\" src=\"https://github.com/GeoscienceAustralia/dea-notebooks/raw/develop/Supplementary_data/dea_logo.jpg\">\n",
    "\n",
    "This code conducts vector subpixel shoreline extraction for DEA Coastlines:\n",
    "\n",
    "* Apply morphological extraction algorithms to mask annual median composite rasters to a valid coastal region\n",
    "* Extract waterline vectors using subpixel waterline extraction ([Bishop-Taylor et al. 2019b](https://doi.org/10.3390/rs11242984))\n",
    "* Compute rates of coastal change at every 30 m using linear regression\n",
    "\n",
    "This is an interactive version of the code intended for prototyping; to run this analysis at scale, use the [command line tools](DEACoastlines_generation_CLI.ipynb).\n",
    "\n",
    "\n",
    "---"
   ]
  },
  {
   "attachments": {},
   "cell_type": "markdown",
   "metadata": {},
   "source": [
    "## Getting started\n",
    "Set working directory to top level of repo to ensure links work correctly:"
   ]
  },
  {
   "cell_type": "code",
   "execution_count": null,
   "metadata": {},
   "outputs": [],
   "source": [
    "cd .."
   ]
  },
  {
   "attachments": {},
   "cell_type": "markdown",
   "metadata": {},
   "source": [
    "### Load packages\n",
    "\n",
    "First we import the required Python packages, then we connect to the database, and load the catalog of virtual products."
   ]
  },
  {
   "cell_type": "code",
   "execution_count": null,
   "metadata": {},
   "outputs": [],
   "source": [
    "# pip install -r requirements.in --quiet"
   ]
  },
  {
   "cell_type": "code",
   "execution_count": null,
   "metadata": {},
   "outputs": [],
   "source": [
    "%matplotlib inline\n",
    "# %load_ext line_profiler\n",
    "%load_ext autoreload\n",
    "%autoreload 2\n",
    "\n",
    "import os\n",
    "\n",
    "# Disable PYGEOS\n",
    "os.environ['USE_PYGEOS'] = '0'\n",
    "\n",
    "import odc.geo.xr  # noqa 401\n",
    "import numpy as np\n",
    "import pandas as pd\n",
    "import geohash as gh\n",
    "import geopandas as gpd\n",
    "from dea_tools.spatial import subpixel_contours\n",
    "\n",
    "# Load DEA Coastlines code\n",
    "import coastlines.raster\n",
    "import coastlines.vector\n",
    "\n",
    "# Hide Pandas warnings\n",
    "pd.options.mode.chained_assignment = None\n"
   ]
  },
  {
   "attachments": {},
   "cell_type": "markdown",
   "metadata": {},
   "source": [
    "## Load in data"
   ]
  },
  {
   "cell_type": "code",
   "execution_count": null,
   "metadata": {},
   "outputs": [],
   "source": [
    "config_path = 'configs/vietnam_coastlines_config_development.yaml'\n",
    "\n",
    "# study_area = \"13,45\"\n",
    "study_area = \"9,19\"\n",
    "\n",
    "raster_version = 'testing'\n",
    "vector_version = raster_version\n",
    "start_year = 2020\n",
    "end_year = 2022\n",
    "baseline_year = 2021\n",
    "\n",
    "water_index = \"mndwi\"\n",
    "index_threshold = 0.25\n",
    "\n",
    "# Load analysis params from config file\n",
    "config = coastlines.raster.load_config(\n",
    "    config_path=config_path\n",
    ")"
   ]
  },
  {
   "attachments": {},
   "cell_type": "markdown",
   "metadata": {},
   "source": [
    "## Load DEA Coastlines rasters"
   ]
  },
  {
   "cell_type": "code",
   "execution_count": null,
   "metadata": {},
   "outputs": [],
   "source": [
    "yearly_ds, gapfill_ds = coastlines.vector.load_rasters(\n",
    "    path=\"data/interim/raster\",\n",
    "    raster_version=raster_version,\n",
    "    study_area=study_area,\n",
    "    water_index=water_index,\n",
    "    start_year=start_year,\n",
    "    end_year=end_year,\n",
    ")\n",
    "\n",
    "# Create output vector folder\n",
    "output_dir = f\"data/interim/vector/{vector_version}/{study_area}_{vector_version}\"\n",
    "os.makedirs(output_dir, exist_ok=True)\n",
    "\n",
    "# Plot an image\n",
    "yearly_ds.isel(year=0).mndwi.plot(cmap=\"RdBu\")"
   ]
  },
  {
   "attachments": {},
   "cell_type": "markdown",
   "metadata": {},
   "source": [
    "## Load vector data"
   ]
  },
  {
   "cell_type": "code",
   "execution_count": null,
   "metadata": {},
   "outputs": [],
   "source": [
    "# Get bounding box to load data for\n",
    "bbox = gpd.GeoSeries(yearly_ds.odc.geobox.extent.geom, crs=yearly_ds.odc.crs)\n",
    "\n",
    "# Study area polygon\n",
    "gridcell_gdf = (\n",
    "    gpd.read_file(config[\"Input files\"][\"grid_path\"], bbox=bbox)\n",
    "    .set_index(\"id\")\n",
    "    .to_crs(str(yearly_ds.odc.crs))\n",
    ")\n",
    "gridcell_gdf.index = gridcell_gdf.index.astype(str)\n",
    "gridcell_gdf = gridcell_gdf.loc[[str(study_area)]]\n",
    "\n",
    "# Coastal mask modifications\n",
    "modifications_gdf = gpd.read_file(\n",
    "    config[\"Input files\"][\"modifications_path\"], bbox=bbox\n",
    ").to_crs(str(yearly_ds.odc.crs))\n",
    "\n",
    "# # Geomorphology dataset\n",
    "# geomorphology_gdf = gpd.read_file(\n",
    "#     config[\"Input files\"][\"geomorphology_path\"], bbox=bbox\n",
    "# ).to_crs(str(yearly_ds.odc.crs))\n",
    "\n",
    "# # Region attribute dataset\n",
    "# region_gdf = gpd.read_file(\n",
    "#     config[\"Input files\"][\"region_attributes_path\"], bbox=bbox\n",
    "# ).to_crs(str(yearly_ds.odc.crs))"
   ]
  },
  {
   "cell_type": "code",
   "execution_count": null,
   "metadata": {},
   "outputs": [],
   "source": [
    "# Mask dataset to focus on coastal zone only\n",
    "masked_ds, certainty_masks = coastlines.vector.contours_preprocess(\n",
    "    yearly_ds,\n",
    "    gapfill_ds,\n",
    "    water_index,\n",
    "    index_threshold,\n",
    "    mask_with_esa_wc=True,\n",
    "    buffer_pixels=33,\n",
    "    mask_modifications=modifications_gdf,\n",
    ")\n",
    "\n",
    "# Plot timestep\n",
    "masked_ds.isel(year=0).plot()"
   ]
  },
  {
   "cell_type": "code",
   "execution_count": null,
   "metadata": {},
   "outputs": [],
   "source": [
    "# Extract shorelines\n",
    "contours_gdf = subpixel_contours(\n",
    "    da=masked_ds,\n",
    "    z_values=index_threshold,\n",
    "    min_vertices=10,\n",
    "    dim=\"year\",\n",
    "#     output_path=f\"temp.geojson\",\n",
    ").set_index(\"year\")\n",
    "\n",
    "# Plot shorelines\n",
    "contours_gdf.plot()"
   ]
  },
  {
   "cell_type": "code",
   "execution_count": null,
   "metadata": {},
   "outputs": [],
   "source": [
    "import folium\n",
    "\n",
    "# Stamen Terrain\n",
    "bb = masked_ds.odc.geobox.boundingbox.to_crs(4326)\n",
    "d_x = bb.right - bb.left\n",
    "d_y = bb.top - bb.bottom\n",
    "\n",
    "location = (bb.bottom + d_y / 2, bb.left + d_x / 2) \n",
    "\n",
    "map = folium.Map(\n",
    "  location=location,\n",
    "  tiles='https://server.arcgisonline.com/ArcGIS/rest/services/World_Imagery/MapServer/tile/{z}/{y}/{x}',\n",
    "  attr='Esri',\n",
    "  name='Esri Satellite',\n",
    "  zoom_start=10\n",
    ")\n",
    "\n",
    "for _, y in contours_gdf.to_crs(\"epsg:4326\").iterrows():\n",
    "    for r in y:\n",
    "      sim_geo = gpd.GeoSeries(r.geoms)\n",
    "      geo_j = sim_geo.to_json()\n",
    "      geo_j = folium.GeoJson(data=geo_j, style_function=lambda x: {\"stroke\": \"red\"})\n",
    "      geo_j.add_to(map)\n",
    "map"
   ]
  },
  {
   "cell_type": "code",
   "execution_count": null,
   "metadata": {},
   "outputs": [],
   "source": [
    "# # DEBUG\n",
    "# (\n",
    "#     masked_ds,\n",
    "#     certainty_masks,\n",
    "#     all_time_15,\n",
    "#     all_time_50,\n",
    "#     river_mask,\n",
    "#     ocean_da,\n",
    "#     thresholded_ds,\n",
    "#     temporal_mask,\n",
    "#     annual_mask,\n",
    "#     coastal_mask,\n",
    "# ) = coastlines.vector.contours_preprocess(\n",
    "#     yearly_ds,\n",
    "#     gapfill_ds,\n",
    "#     water_index,\n",
    "#     index_threshold,\n",
    "#     buffer_pixels=33,\n",
    "#     mask_modifications=modifications_gdf,\n",
    "#     debug=True,\n",
    "# )"
   ]
  },
  {
   "attachments": {},
   "cell_type": "markdown",
   "metadata": {},
   "source": [
    "## Compute statistics\n",
    "### Create stats points on baseline shoreline"
   ]
  },
  {
   "cell_type": "code",
   "execution_count": null,
   "metadata": {},
   "outputs": [],
   "source": [
    "# Extract statistics modelling points along baseline shoreline\n",
    "try:\n",
    "    points_gdf = coastlines.vector.points_on_line(contours_gdf, baseline_year, distance=30)\n",
    "except KeyError:\n",
    "    print(\"Failed to find the baseline year\")\n",
    "    points_gdf = None"
   ]
  },
  {
   "attachments": {},
   "cell_type": "markdown",
   "metadata": {},
   "source": [
    "### Measure annual coastline movements"
   ]
  },
  {
   "cell_type": "code",
   "execution_count": null,
   "metadata": {},
   "outputs": [],
   "source": [
    "if points_gdf is not None and len(points_gdf) > 0:\n",
    "    \n",
    "    # Calculate annual movements for every shoreline\n",
    "    # compared to the baseline year\n",
    "    points_gdf = coastlines.vector.annual_movements(\n",
    "        points_gdf,\n",
    "        contours_gdf,\n",
    "        yearly_ds,\n",
    "        str(baseline_year),\n",
    "        water_index,\n",
    "        max_valid_dist=1200,\n",
    "    )\n",
    "    \n",
    "    # Reindex to add any missing annual columns to the dataset\n",
    "    points_gdf = points_gdf.reindex(\n",
    "        columns=[\n",
    "            \"geometry\",\n",
    "            *[f\"dist_{i}\" for i in range(start_year, end_year + 1)],\n",
    "            \"angle_mean\",\n",
    "            \"angle_std\",\n",
    "        ]\n",
    "    )"
   ]
  },
  {
   "attachments": {},
   "cell_type": "markdown",
   "metadata": {},
   "source": [
    "### Calculate regressions"
   ]
  },
  {
   "cell_type": "code",
   "execution_count": null,
   "metadata": {},
   "outputs": [],
   "source": [
    "if points_gdf is not None and len(points_gdf) > 0:\n",
    "\n",
    "    # Apply regression function to each row in dataset\n",
    "    points_gdf = coastlines.vector.calculate_regressions(points_gdf)\n",
    "\n",
    "    # Add count and span of valid obs, Shoreline Change Envelope (SCE),\n",
    "    # Net Shoreline Movement (NSM) and Max/Min years\n",
    "    stats_list = [\"valid_obs\", \"valid_span\", \"sce\", \"nsm\", \"max_year\", \"min_year\"]\n",
    "    points_gdf[stats_list] = points_gdf.apply(\n",
    "        lambda x: coastlines.vector.all_time_stats(x, initial_year=start_year), axis=1\n",
    "    )"
   ]
  },
  {
   "attachments": {},
   "cell_type": "markdown",
   "metadata": {},
   "source": [
    "### Add certainty flags\n",
    "Add certainty column to flag points with:\n",
    "- Baseline outlier: The baseline shoreline is itself flagged as an outlier, potentially resulting in inaccurate rates of change.\n",
    "- Likely rocky shorelines: Rates of change can be unreliable in areas with steep rocky/bedrock shorelines due to terrain shadow.\n",
    "- Extreme rate of change value (> 50 m per year change) that is more likely to reflect modelling issues than real-world coastal change\n",
    "- High angular variability: the nearest shorelines for each year do not fall on an approximate line, making rates of change invalid\n",
    "- Insufficient observations: less than 75% valid annual shorelines, which make the resulting rates of change more likely to be inaccurate"
   ]
  },
  {
   "cell_type": "code",
   "execution_count": null,
   "metadata": {},
   "outputs": [],
   "source": [
    "if points_gdf is not None and len(points_gdf) > 0:\n",
    "    \n",
    "    rocky = [\n",
    "        \"Bedrock breakdown debris (cobbles/boulders)\",\n",
    "        \"Boulder (rock) beach\",\n",
    "        \"Cliff (>5m) (undiff)\",\n",
    "        \"Colluvium (talus) undiff\",\n",
    "        \"Flat boulder deposit (rock) undiff\",\n",
    "        \"Hard bedrock shore\",\n",
    "        \"Hard bedrock shore inferred\",\n",
    "        \"Hard rock cliff (>5m)\",\n",
    "        \"Hard rocky shore platform\",\n",
    "        \"Rocky shore (undiff)\",\n",
    "        \"Rocky shore platform (undiff)\",\n",
    "        \"Sloping hard rock shore\",\n",
    "        \"Sloping rocky shore (undiff)\",\n",
    "        \"Soft `bedrock¿ cliff (>5m)\",\n",
    "        \"Steep boulder talus\",\n",
    "        \"Hard rocky shore platform\",\n",
    "    ]\n",
    "\n",
    "    # Initialise certainty column with good values\n",
    "    points_gdf[\"certainty\"] = \"good\"\n",
    "\n",
    "    # Flag points where the baseline shoreline is itself an outlier\n",
    "    points_gdf.loc[\n",
    "        points_gdf.outl_time.str.contains(str(baseline_year)), \"certainty\"\n",
    "    ] = \"baseline outlier\"\n",
    "\n",
    "    # # Flag rocky shorelines\n",
    "    # points_gdf.loc[\n",
    "    #     coastlines.vector.rocky_shoreline_flag(\n",
    "    #         points_gdf,\n",
    "    #         geomorphology_gdf,\n",
    "    #         rocky_query=f\"(INTERTD1_V in {rocky}) & (INTERTD2_V in {rocky + ['Unclassified']})\",\n",
    "    #     ),\n",
    "    #     \"certainty\",\n",
    "    # ] = \"likely rocky coastline\"\n",
    "\n",
    "    # Flag extreme rates of change\n",
    "    points_gdf.loc[points_gdf.rate_time.abs() > 50, \"certainty\"] = \"extreme value (> 50 m)\"\n",
    "\n",
    "    # Flag points where change does not fall on a line\n",
    "    points_gdf.loc[points_gdf.angle_std > 30, \"certainty\"] = \"high angular variability\"\n",
    "\n",
    "    # Flag points with less than X valid shorelines\n",
    "    valid_obs_thresh = int(points_gdf.columns.str.contains(\"dist_\").sum() * 0.75)\n",
    "    points_gdf.loc[\n",
    "        points_gdf.valid_obs < valid_obs_thresh, \"certainty\"\n",
    "    ] = \"insufficient observations\""
   ]
  },
  {
   "attachments": {},
   "cell_type": "markdown",
   "metadata": {},
   "source": [
    "### Add region attributes"
   ]
  },
  {
   "cell_type": "code",
   "execution_count": null,
   "metadata": {},
   "outputs": [],
   "source": [
    "if points_gdf is not None and len(points_gdf) > 0:\n",
    "\n",
    "    points_gdf = coastlines.vector.region_attributes(\n",
    "        points_gdf, region_gdf, attribute_col=\"ID_Primary\", rename_col=\"id_primary\"\n",
    "    )"
   ]
  },
  {
   "attachments": {},
   "cell_type": "markdown",
   "metadata": {
    "tags": []
   },
   "source": [
    "### Add geohash unique IDs"
   ]
  },
  {
   "cell_type": "code",
   "execution_count": null,
   "metadata": {},
   "outputs": [],
   "source": [
    "if points_gdf is not None and len(points_gdf) > 0:\n",
    "    \n",
    "    # Generate a geohash UID for each point and set as index\n",
    "    uids = points_gdf.geometry.to_crs(\"EPSG:4326\").apply(\n",
    "        lambda x: gh.encode(x.y, x.x, precision=10)\n",
    "    ).rename('uid')\n",
    "    points_gdf = points_gdf.set_index(uids)"
   ]
  },
  {
   "attachments": {},
   "cell_type": "markdown",
   "metadata": {},
   "source": [
    "## Export files\n",
    "\n",
    "### Export stats files"
   ]
  },
  {
   "cell_type": "code",
   "execution_count": null,
   "metadata": {},
   "outputs": [],
   "source": [
    "if points_gdf is not None and len(points_gdf) > 0:\n",
    "\n",
    "    # Clip stats to study area extent\n",
    "    points_gdf_clipped = points_gdf.clip(gridcell_gdf)\n",
    "\n",
    "    # Set output path\n",
    "    stats_path = (\n",
    "        f\"{output_dir}/ratesofchange_{study_area}_\"\n",
    "        f\"{vector_version}_{water_index}_{index_threshold:.2f}\"\n",
    "    )\n",
    "    \n",
    "    # Export to GeoJSON\n",
    "    points_gdf_clipped.to_crs(\"EPSG:4326\").to_file(\n",
    "        f\"{stats_path}.geojson\",\n",
    "        driver=\"GeoJSON\",\n",
    "    )\n",
    "\n",
    "    # Export as ESRI shapefiles\n",
    "    points_gdf_clipped.to_file(\n",
    "        f\"{stats_path}.shp\",\n",
    "        schema={\n",
    "            \"properties\": coastlines.vector.vector_schema(points_gdf_clipped),\n",
    "            \"geometry\": \"Point\",\n",
    "        },\n",
    "    )\n",
    "    "
   ]
  },
  {
   "attachments": {},
   "cell_type": "markdown",
   "metadata": {},
   "source": [
    "### Export annual shorelines"
   ]
  },
  {
   "cell_type": "code",
   "execution_count": null,
   "metadata": {},
   "outputs": [],
   "source": [
    "if len(contours_gdf.index) > 0:\n",
    "\n",
    "    # # Assign certainty to contours based on underlying masks\n",
    "    # contours_gdf = coastlines.vector.contour_certainty(contours_gdf, certainty_masks)\n",
    "\n",
    "    # Add tide datum details (this supports future addition of extra tide datums)\n",
    "    contours_gdf[\"tide_datum\"] = \"0.0 m AMSL\"\n",
    "\n",
    "    # # Add region attributes\n",
    "    # contours_gdf = coastlines.vector.region_atttributes(\n",
    "    #     contours_gdf, region_gdf, attribute_col=\"ID_Primary\", rename_col=\"id_primary\"\n",
    "    # )\n",
    "\n",
    "    # Set output path\n",
    "    contour_path = (\n",
    "        f\"{output_dir}/annualshorelines_{study_area}_{vector_version}_\"\n",
    "        f\"{water_index}_{index_threshold:.2f}\"\n",
    "    )\n",
    "\n",
    "    # Clip annual shoreline contours to study area extent\n",
    "    contours_gdf_clipped = contours_gdf.clip(gridcell_gdf)\n",
    "\n",
    "    # Export to GeoJSON\n",
    "    contours_gdf_clipped.to_crs(\"EPSG:4326\").to_file(\n",
    "        f\"{contour_path}.geojson\", driver=\"GeoJSON\"\n",
    "    )\n",
    "\n",
    "    # Export stats and contours as ESRI shapefiles\n",
    "    contours_gdf_clipped.to_file(\n",
    "        f\"{contour_path}.shp\",\n",
    "        schema={\n",
    "            \"properties\": coastlines.vector.vector_schema(contours_gdf_clipped),\n",
    "            \"geometry\": [\"MultiLineString\", \"LineString\"],\n",
    "        },\n",
    "    )"
   ]
  },
  {
   "attachments": {},
   "cell_type": "markdown",
   "metadata": {},
   "source": [
    "***\n",
    "\n",
    "## Additional information"
   ]
  },
  {
   "attachments": {},
   "cell_type": "markdown",
   "metadata": {},
   "source": [
    "**License:** The code in this notebook is licensed under the [Apache License, Version 2.0](https://www.apache.org/licenses/LICENSE-2.0). \n",
    "Digital Earth Australia data is licensed under the [Creative Commons by Attribution 4.0](https://creativecommons.org/licenses/by/4.0/) license.\n",
    "\n",
    "**Contact:** For assistance with any of the Python code or Jupyter Notebooks in this repository, please post a [Github issue](https://github.com/GeoscienceAustralia/dea-coastlines/issues/new).\n",
    "\n",
    "**Last modified:** November 2022\n",
    "\n",
    "**To cite:**\n",
    "\n",
    "> Bishop-Taylor, R., Nanson, R., Sagar, S., Lymburner, L. (2021). Mapping Australia's dynamic coastline at mean sea level using three decades of Landsat imagery. Remote Sensing of Environment, 267, 112734. Available: https://doi.org/10.1016/j.rse.2021.112734\n",
    ">\n",
    "> Nanson, R., Bishop-Taylor, R., Sagar, S., Lymburner, L., (2022). Geomorphic insights into Australia's coastal change using a national dataset derived from the multi-decadal Landsat archive. Estuarine, Coastal and Shelf Science, 265, p.107712. Available: https://doi.org/10.1016/j.ecss.2021.107712\n",
    ">\n",
    "> Bishop-Taylor, R., Sagar, S., Lymburner, L., Alam, I., Sixsmith, J. (2019). Sub-pixel waterline extraction: characterising accuracy and sensitivity to indices and spectra. Remote Sensing, 11 (24):2984. Available: https://doi.org/10.3390/rs11242984"
   ]
  }
 ],
 "metadata": {
  "kernelspec": {
   "display_name": "test",
   "language": "python",
   "name": "python3"
  },
  "language_info": {
   "codemirror_mode": {
    "name": "ipython",
    "version": 3
   },
   "file_extension": ".py",
   "mimetype": "text/x-python",
   "name": "python",
   "nbconvert_exporter": "python",
   "pygments_lexer": "ipython3",
   "version": "3.10.6"
  },
  "widgets": {
   "application/vnd.jupyter.widget-state+json": {
    "state": {},
    "version_major": 2,
    "version_minor": 0
   }
  }
 },
 "nbformat": 4,
 "nbformat_minor": 4
}
