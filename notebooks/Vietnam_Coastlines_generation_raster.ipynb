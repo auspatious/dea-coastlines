{
 "cells": [
  {
   "attachments": {},
   "cell_type": "markdown",
   "metadata": {},
   "source": [
    "# Vietnam Coastlines raster generation\n",
    "\n",
    "\n",
    "* Load stack of all available Landsat 5, 7, 8 and 9 satellite imagery for a location using [ODC Virtual Products](https://docs.dea.ga.gov.au/notebooks/Frequently_used_code/Virtual_products.html)\n",
    "* Convert each satellite image into a remote sensing water index (MNDWI)\n",
    "* For each satellite image, model ocean tides into a grid based on exact time of image acquisition\n",
    "* Interpolate tide heights into spatial extent of image stack using the [FES2014 global tide model](https://github.com/GeoscienceAustralia/dea-coastlines/wiki/Setting-up-tidal-models-for-DEA-Coastlines)\n",
    "* Mask out high and low tide pixels by removing all observations acquired outside of 50 percent of the observed tidal range centered over mean sea level\n",
    "* Combine tidally-masked data into annual median composites representing the most representative position of the coastline at approximately mean sea level each year\n",
    "\n",
    "This is an interactive version of the code intended for prototyping; to run this analysis at scale, use the [command line tools](DEACoastlines_generation_CLI.ipynb).\n",
    "\n",
    "---"
   ]
  },
  {
   "attachments": {},
   "cell_type": "markdown",
   "metadata": {},
   "source": [
    "## Getting started\n",
    "Set working directory to top level of repository to ensure links work correctly:"
   ]
  },
  {
   "cell_type": "code",
   "execution_count": null,
   "metadata": {},
   "outputs": [],
   "source": [
    "cd .."
   ]
  },
  {
   "attachments": {},
   "cell_type": "markdown",
   "metadata": {},
   "source": [
    "### Load packages\n",
    "\n",
    "First we import the required Python packages, then we connect to the database, and load the catalog of virtual products."
   ]
  },
  {
   "cell_type": "code",
   "execution_count": null,
   "metadata": {},
   "outputs": [],
   "source": [
    "# pip install -r requirements.in --quiet"
   ]
  },
  {
   "cell_type": "code",
   "execution_count": null,
   "metadata": {},
   "outputs": [],
   "source": [
    "%matplotlib inline\n",
    "%load_ext autoreload\n",
    "%autoreload 2\n",
    "\n",
    "import os\n",
    "\n",
    "os.environ['USE_PYGEOS'] = '0'\n",
    "\n",
    "import geopandas as gpd\n",
    "from datacube.utils.geometry import Geometry\n",
    "\n",
    "from collections import Counter\n",
    "\n",
    "# Load DEA Coastlines and DEA tools code\n",
    "import coastlines.raster\n",
    "import coastlines.utils\n",
    "from datacube.utils.dask import start_local_dask\n",
    "from dea_tools.coastal import pixel_tides\n",
    "\n",
    "from odc.algo import mask_cleanup\n",
    "from odc.stac import configure_s3_access\n",
    "\n",
    "# Create local dask client for parallelisation\n",
    "dask_client = start_local_dask(n_workers=4, threads_per_worker=2, memory_limit=\"120GB\")\n",
    "\n",
    "# Configure S3 access including request payer\n",
    "_ = configure_s3_access(requester_pays=True, cloud_defaults=True)\n",
    "\n",
    "print(dask_client.dashboard_link)"
   ]
  },
  {
   "attachments": {},
   "cell_type": "markdown",
   "metadata": {
    "tags": []
   },
   "source": [
    "## Setup\n"
   ]
  },
  {
   "attachments": {},
   "cell_type": "markdown",
   "metadata": {},
   "source": [
    "### Set analysis parameters"
   ]
  },
  {
   "cell_type": "code",
   "execution_count": null,
   "metadata": {},
   "outputs": [],
   "source": [
    "# study_area = \"13,45\"\n",
    "# study_area = \"9,19\"\n",
    "study_area = \"13,21\"\n",
    "raster_version = 'testing'\n",
    "start_year = 2018\n",
    "end_year = 2022\n",
    "config_path = 'configs/vietnam_coastlines_config_development.yaml'\n",
    "\n",
    "# Load analysis params from config file\n",
    "config = coastlines.utils.load_config(\n",
    "    config_path=config_path)"
   ]
  },
  {
   "attachments": {},
   "cell_type": "markdown",
   "metadata": {},
   "source": [
    "### Load supplementary data"
   ]
  },
  {
   "cell_type": "code",
   "execution_count": null,
   "metadata": {},
   "outputs": [],
   "source": [
    "# Albers grid cells used to process the analysis\n",
    "gridcell_gdf = (\n",
    "    gpd.read_file(config['Input files']['grid_path']).to_crs(\n",
    "        epsg=4326).set_index('id'))\n",
    "gridcell_gdf.index = gridcell_gdf.index.astype(str)\n",
    "gridcell_gdf = gridcell_gdf.loc[[str(study_area)]]\n",
    "gridcell_gdf.plot()"
   ]
  },
  {
   "attachments": {},
   "cell_type": "markdown",
   "metadata": {},
   "source": [
    "## Loading data\n",
    "### Create spatiotemporal query\n",
    "This establishes the spatial and temporal extent used to search for Landsat satellite data.\n"
   ]
  },
  {
   "attachments": {},
   "cell_type": "markdown",
   "metadata": {},
   "source": [
    "### Load satellite data as MNDWI\n",
    "This step loads satellite data from Landsat 5, 7, 8 and 9, and returns the data as a cloud-masked array converted to the Modified Normalised Difference Water Index (MNDWI).\n",
    "For Digital Earth Australia Coastlines, this is achieved using [ODC Virtual Products](https://docs.dea.ga.gov.au/notebooks/Frequently_used_code/Virtual_products.html)."
   ]
  },
  {
   "cell_type": "code",
   "execution_count": null,
   "metadata": {},
   "outputs": [],
   "source": [
    "# Load MNDWI from STAC\n",
    "from odc.stac import load\n",
    "from pystac_client import Client\n",
    "\n",
    "usgs_url = \"https://landsatlook.usgs.gov/stac-server\"\n",
    "client = Client.open(usgs_url)\n",
    "collections = [\"landsat-c2l2-sr\"]\n",
    "\n",
    "def http_to_s3_url(http_url):\n",
    "    \"\"\"Convert a USGS HTTP URL to an S3 URL\"\"\"\n",
    "    s3_url = http_url.replace('https://landsatlook.usgs.gov/data', 's3://usgs-landsat').rstrip(\":1\")\n",
    "    return s3_url\n"
   ]
  },
  {
   "cell_type": "code",
   "execution_count": null,
   "metadata": {},
   "outputs": [],
   "source": [
    "# Create query based on analysis gridcell extent\n",
    "geopoly = Geometry(gridcell_gdf.iloc[0].geometry, crs=gridcell_gdf.crs)\n",
    "bbox = geopoly.buffer(0.05).boundingbox\n",
    "query = {\n",
    "    \"bbox\": [bbox.left, bbox.bottom, bbox.right, bbox.top],\n",
    "    \"datetime\": (str(start_year - 1), str(end_year + 1)),\n",
    "}\n",
    "\n",
    "items = list(client.search(collections=collections, **query).get_all_items())\n",
    "\n",
    "print(f\"Found {len(items)} items\")"
   ]
  },
  {
   "cell_type": "code",
   "execution_count": null,
   "metadata": {},
   "outputs": [],
   "source": [
    "epsg_codes = Counter(item.properties[\"proj:epsg\"] for item in items)\n",
    "most_common_epsg = epsg_codes.most_common(1)[0][0]"
   ]
  },
  {
   "cell_type": "code",
   "execution_count": null,
   "metadata": {},
   "outputs": [],
   "source": [
    "cfg = {\n",
    "    \"landsat-c2l2-sr\": {\n",
    "        \"assets\": {\n",
    "            \"*\": {\"data_type\": \"uint16\", \"nodata\": 0},\n",
    "        }\n",
    "    },\n",
    "    \"*\": {\"warnings\": \"ignore\"},\n",
    "}\n",
    "\n",
    "alt_band = \"swir16\"\n",
    "\n",
    "ds = load(\n",
    "    items,\n",
    "    bands=[\"green\", alt_band, \"qa_pixel\"],\n",
    "    **query,\n",
    "    crs=most_common_epsg,\n",
    "    resolution=30,\n",
    "    stac_cfg=cfg,\n",
    "    chunks={\"x\": 2000, \"y\": 2000, \"time\": 1},\n",
    "    group_by=\"solar_day\",\n",
    "    patch_url=http_to_s3_url,\n",
    "    \n",
    ")\n",
    "\n",
    "# Mask where there is no data\n",
    "ds = ds.where(ds.green != 0)\n",
    "\n",
    "ds[\"green\"] = ds[\"green\"].astype(\"float32\") * 0.0000275 + -0.2\n",
    "ds[alt_band] = ds[alt_band].astype(\"float32\") * 0.0000275 + -0.2\n",
    "\n",
    "ds[\"mndwi\"] = (ds[\"green\"] - ds[alt_band]) / (ds[\"green\"] + ds[alt_band])\n",
    "\n",
    "# Get cloud and cloud shadow mask\n",
    "mask_bitfields = [1, 2, 3, 4]  # dilated cloud, cirrus, cloud, cloud shadow\n",
    "bitmask = 0\n",
    "for field in mask_bitfields:\n",
    "    bitmask |= 1 << field\n",
    "\n",
    "cloud_mask = ds[\"qa_pixel\"].astype(int) & bitmask != 0\n",
    "\n",
    "# Expand and contract the mask to clean it up and then apply it\n",
    "dilated = mask_cleanup(cloud_mask, [(\"opening\", 2), (\"dilation\", 3)])\n",
    "ds = ds.where(~dilated)\n",
    "\n",
    "ds"
   ]
  },
  {
   "attachments": {},
   "cell_type": "markdown",
   "metadata": {},
   "source": [
    "## Tidal modelling\n"
   ]
  },
  {
   "attachments": {},
   "cell_type": "markdown",
   "metadata": {
    "tags": []
   },
   "source": [
    "### Interpolate tides into each satellite timestep\n",
    "For each satellite timestep, model tide heights into a low-resolution 5 x 5 km grid (matching resolution of the FES2014 tidal model), then reproject modelled tides into the spatial extent of our satellite image. Add  this new data as a new variable in our satellite dataset to allow each satellite pixel to be analysed and filtered/masked based on the tide height at the exact moment of satellite image acquisition. "
   ]
  },
  {
   "cell_type": "code",
   "execution_count": null,
   "metadata": {},
   "outputs": [],
   "source": [
    "ds[\"tide_m\"], tides_lowres = pixel_tides(ds, resample=True, directory=\"/home/jovyan/tide_models\")"
   ]
  },
  {
   "attachments": {},
   "cell_type": "markdown",
   "metadata": {},
   "source": [
    "Plot example interpolated tide surface for a single timestep:"
   ]
  },
  {
   "cell_type": "code",
   "execution_count": null,
   "metadata": {},
   "outputs": [],
   "source": [
    "import matplotlib.pyplot as plt\n",
    "\n",
    "# Plot\n",
    "timestep = 15\n",
    "ds_i = ds[\"tide_m\"].isel(time=timestep)\n",
    "ds_lowres_i = tides_lowres.isel(time=timestep)\n",
    "\n",
    "fig, axes = plt.subplots(1, 2, figsize=(15, 8))\n",
    "ds_lowres_i.plot.imshow(\n",
    "    ax=axes[0],\n",
    "    robust=True,\n",
    "    cmap=\"viridis\",\n",
    "    vmin=ds_i.min().item(),\n",
    "    vmax=ds_i.max().item(),\n",
    ")\n",
    "ds_i.plot.imshow(\n",
    "    ax=axes[1],\n",
    "    robust=True,\n",
    "    cmap=\"viridis\",\n",
    "    vmin=ds_i.min().item(),\n",
    "    vmax=ds_i.max().item(),\n",
    ")\n",
    "for ax in axes:\n",
    "    gridcell_gdf.to_crs(ds.odc.geobox.crs).plot(\n",
    "        ax=ax, facecolor=\"none\", edgecolor=\"black\"\n",
    "    )\n",
    "axes[0].set_title(\"Low resolution (5 x 5 km) modelled tides\")\n",
    "axes[1].set_title(\"Modelled tides reprojected into input satellite grid\");"
   ]
  },
  {
   "attachments": {},
   "cell_type": "markdown",
   "metadata": {},
   "source": [
    "### Calculate per-pixel tide cutoffs\n",
    "Based on the entire time-series of tide heights, compute the max and min satellite-observed tide height for each pixel, then calculate tide cutoffs used to restrict our data to satellite observations centred over mid-tide (0 m Above Mean Sea Level)."
   ]
  },
  {
   "cell_type": "code",
   "execution_count": null,
   "metadata": {},
   "outputs": [],
   "source": [
    "# Determine tide cutoff\n",
    "tide_cutoff_min, tide_cutoff_max = coastlines.raster.tide_cutoffs(ds, tides_lowres, tide_centre=0.0)"
   ]
  },
  {
   "attachments": {},
   "cell_type": "markdown",
   "metadata": {},
   "source": [
    "## Generate yearly composites\n",
    "Export tidally-masked MNDWI median composites for each year, and three-yearly composites used to gapfill poor data coverage areas."
   ]
  },
  {
   "cell_type": "code",
   "execution_count": null,
   "metadata": {},
   "outputs": [],
   "source": [
    "# If output folder doesn't exist, create it\n",
    "output_dir = f\"data/interim/raster/{raster_version}/{study_area}_{raster_version}\"\n",
    "os.makedirs(output_dir, exist_ok=True)\n",
    "\n",
    "# Iterate through each year and export annual and 3-year gapfill composites\n",
    "coastlines.raster.export_annual_gapfill(\n",
    "    ds, output_dir, tide_cutoff_min, tide_cutoff_max, start_year, end_year\n",
    ")"
   ]
  },
  {
   "attachments": {},
   "cell_type": "markdown",
   "metadata": {},
   "source": [
    "### Close Dask client"
   ]
  },
  {
   "cell_type": "code",
   "execution_count": null,
   "metadata": {},
   "outputs": [],
   "source": [
    "dask_client.close()"
   ]
  },
  {
   "attachments": {},
   "cell_type": "markdown",
   "metadata": {
    "tags": []
   },
   "source": [
    "***\n",
    "\n",
    "## Additional information"
   ]
  },
  {
   "attachments": {},
   "cell_type": "markdown",
   "metadata": {},
   "source": [
    "**License:** The code in this notebook is licensed under the [Apache License, Version 2.0](https://www.apache.org/licenses/LICENSE-2.0). \n",
    "Digital Earth Australia data is licensed under the [Creative Commons by Attribution 4.0](https://creativecommons.org/licenses/by/4.0/) license.\n",
    "\n",
    "**Contact:** For assistance with any of the Python code or Jupyter Notebooks in this repository, please post a [Github issue](https://github.com/GeoscienceAustralia/dea-coastlines/issues/new).\n",
    "\n",
    "**Last modified:** November 2022\n",
    "\n",
    "**To cite:**\n",
    "\n",
    "> Bishop-Taylor, R., Nanson, R., Sagar, S., Lymburner, L. (2021). Mapping Australia's dynamic coastline at mean sea level using three decades of Landsat imagery. Remote Sensing of Environment, 267, 112734. Available: https://doi.org/10.1016/j.rse.2021.112734\n",
    ">\n",
    "> Nanson, R., Bishop-Taylor, R., Sagar, S., Lymburner, L., (2022). Geomorphic insights into Australia's coastal change using a national dataset derived from the multi-decadal Landsat archive. Estuarine, Coastal and Shelf Science, 265, p.107712. Available: https://doi.org/10.1016/j.ecss.2021.107712\n",
    ">\n",
    "> Bishop-Taylor, R., Sagar, S., Lymburner, L., Alam, I., Sixsmith, J. (2019). Sub-pixel waterline extraction: characterising accuracy and sensitivity to indices and spectra. Remote Sensing, 11 (24):2984. Available: https://doi.org/10.3390/rs11242984"
   ]
  }
 ],
 "metadata": {
  "kernelspec": {
   "display_name": "test",
   "language": "python",
   "name": "python3"
  },
  "language_info": {
   "codemirror_mode": {
    "name": "ipython",
    "version": 3
   },
   "file_extension": ".py",
   "mimetype": "text/x-python",
   "name": "python",
   "nbconvert_exporter": "python",
   "pygments_lexer": "ipython3",
   "version": "3.10.6"
  },
  "widgets": {
   "application/vnd.jupyter.widget-state+json": {
    "state": {},
    "version_major": 2,
    "version_minor": 0
   }
  }
 },
 "nbformat": 4,
 "nbformat_minor": 4
}
